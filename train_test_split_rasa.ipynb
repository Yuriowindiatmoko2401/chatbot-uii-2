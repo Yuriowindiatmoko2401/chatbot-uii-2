{
 "cells": [
  {
   "cell_type": "code",
   "execution_count": 1,
   "metadata": {},
   "outputs": [
    {
     "name": "stderr",
     "output_type": "stream",
     "text": [
      "/Users/yurio/Kuliah/thesis_mania/prototyping_mania/rasa-1.6.0a1/rasa_nlu/__init__.py:12: UserWarning: The 'rasa_nlu' package has been renamed. You should change your imports to use 'rasa.nlu' instead.\n",
      "  UserWarning,\n"
     ]
    }
   ],
   "source": [
    "from rasa_nlu.training_data import load_data"
   ]
  },
  {
   "cell_type": "code",
   "execution_count": 2,
   "metadata": {},
   "outputs": [
    {
     "name": "stdout",
     "output_type": "stream",
     "text": [
      "nlu.md     stories.md\r\n"
     ]
    }
   ],
   "source": [
    "!ls data"
   ]
  },
  {
   "cell_type": "code",
   "execution_count": null,
   "metadata": {},
   "outputs": [],
   "source": [
    "# import json\n",
    "\n",
    "# with open('data/nlu.json', 'w') as json_file:\n",
    "#     json.dump(data.as_json(), json_file)"
   ]
  },
  {
   "cell_type": "code",
   "execution_count": null,
   "metadata": {},
   "outputs": [],
   "source": [
    "# train, test = data.train_test_split(train_frac=0.8)"
   ]
  },
  {
   "cell_type": "code",
   "execution_count": null,
   "metadata": {},
   "outputs": [],
   "source": [
    "# print(train.as_json())"
   ]
  },
  {
   "cell_type": "code",
   "execution_count": null,
   "metadata": {},
   "outputs": [],
   "source": [
    "# print(test.as_json())"
   ]
  },
  {
   "cell_type": "code",
   "execution_count": null,
   "metadata": {},
   "outputs": [],
   "source": [
    "# print(train.as_markdown())"
   ]
  },
  {
   "cell_type": "code",
   "execution_count": null,
   "metadata": {},
   "outputs": [],
   "source": [
    "# file1 = open(\"./data/train_nlu.md\",\"a\")\n",
    "# for l in train.as_markdown():\n",
    "#     file1.writelines(l) \n",
    "# file1.close()"
   ]
  },
  {
   "cell_type": "code",
   "execution_count": null,
   "metadata": {},
   "outputs": [],
   "source": [
    "# print(test.as_markdown())"
   ]
  },
  {
   "cell_type": "code",
   "execution_count": null,
   "metadata": {},
   "outputs": [],
   "source": [
    "# file1 = open(\"./data/test_nlu.md\",\"a\")\n",
    "# for l in test.as_markdown():\n",
    "#     file1.writelines(l) \n",
    "# file1.close()"
   ]
  },
  {
   "cell_type": "markdown",
   "metadata": {},
   "source": [
    "### retraining on jupyter"
   ]
  },
  {
   "cell_type": "code",
   "execution_count": 4,
   "metadata": {},
   "outputs": [
    {
     "name": "stdout",
     "output_type": "stream",
     "text": [
      "Event loop ready.\n"
     ]
    }
   ],
   "source": [
    "import nest_asyncio\n",
    "\n",
    "nest_asyncio.apply()\n",
    "print(\"Event loop ready.\")"
   ]
  },
  {
   "cell_type": "code",
   "execution_count": 5,
   "metadata": {},
   "outputs": [],
   "source": [
    "import os"
   ]
  },
  {
   "cell_type": "code",
   "execution_count": 6,
   "metadata": {},
   "outputs": [
    {
     "name": "stdout",
     "output_type": "stream",
     "text": [
      "config.yml data/ domain.yml models/\n"
     ]
    }
   ],
   "source": [
    "config = \"config.yml\"\n",
    "training_files = \"data/\"\n",
    "domain = \"domain.yml\"\n",
    "output = \"models/\"\n",
    "print(config, training_files, domain, output)"
   ]
  },
  {
   "cell_type": "code",
   "execution_count": 1,
   "metadata": {},
   "outputs": [],
   "source": [
    "import rasa"
   ]
  },
  {
   "cell_type": "code",
   "execution_count": 2,
   "metadata": {},
   "outputs": [],
   "source": [
    "??rasa.train"
   ]
  },
  {
   "cell_type": "code",
   "execution_count": 7,
   "metadata": {},
   "outputs": [
    {
     "name": "stdout",
     "output_type": "stream",
     "text": [
      "\u001b[94mTraining Core model...\u001b[0m\n",
      "WARNING:tensorflow:From /usr/local/anaconda3/envs/rasa_16/lib/python3.6/site-packages/tensor2tensor/utils/expert_utils.py:68: The name tf.variable_scope is deprecated. Please use tf.compat.v1.variable_scope instead.\n",
      "\n",
      "WARNING:tensorflow:\n",
      "The TensorFlow contrib module will not be included in TensorFlow 2.0.\n",
      "For more information, please see:\n",
      "  * https://github.com/tensorflow/community/blob/master/rfcs/20180907-contrib-sunset.md\n",
      "  * https://github.com/tensorflow/addons\n",
      "  * https://github.com/tensorflow/io (for I/O related ops)\n",
      "If you depend on functionality not listed there, please file an issue.\n",
      "\n",
      "WARNING:tensorflow:From /usr/local/anaconda3/envs/rasa_16/lib/python3.6/site-packages/tensor2tensor/utils/adafactor.py:27: The name tf.train.Optimizer is deprecated. Please use tf.compat.v1.train.Optimizer instead.\n",
      "\n",
      "WARNING:tensorflow:From /usr/local/anaconda3/envs/rasa_16/lib/python3.6/site-packages/tensor2tensor/utils/multistep_optimizer.py:32: The name tf.train.AdamOptimizer is deprecated. Please use tf.compat.v1.train.AdamOptimizer instead.\n",
      "\n",
      "WARNING:tensorflow:From /usr/local/anaconda3/envs/rasa_16/lib/python3.6/site-packages/tensor2tensor/models/research/glow_init_hook.py:25: The name tf.train.SessionRunHook is deprecated. Please use tf.estimator.SessionRunHook instead.\n",
      "\n",
      "WARNING:tensorflow:From /usr/local/anaconda3/envs/rasa_16/lib/python3.6/site-packages/tensor2tensor/models/research/neural_stack.py:38: The name tf.nn.rnn_cell.RNNCell is deprecated. Please use tf.compat.v1.nn.rnn_cell.RNNCell instead.\n",
      "\n",
      "WARNING:tensorflow:From /usr/local/anaconda3/envs/rasa_16/lib/python3.6/site-packages/tensor2tensor/rl/gym_utils.py:235: The name tf.logging.info is deprecated. Please use tf.compat.v1.logging.info instead.\n",
      "\n",
      "INFO:tensorflow:Entry Point [tensor2tensor.envs.tic_tac_toe_env:TicTacToeEnv] registered with id [T2TEnv-TicTacToeEnv-v0]\n",
      "WARNING:tensorflow:From /usr/local/anaconda3/envs/rasa_16/lib/python3.6/site-packages/tensor2tensor/utils/trainer_lib.py:111: The name tf.OptimizerOptions is deprecated. Please use tf.compat.v1.OptimizerOptions instead.\n",
      "\n",
      "WARNING:tensorflow:From /usr/local/anaconda3/envs/rasa_16/lib/python3.6/site-packages/tensorflow_gan/python/estimator/tpu_gan_estimator.py:42: The name tf.estimator.tpu.TPUEstimator is deprecated. Please use tf.compat.v1.estimator.tpu.TPUEstimator instead.\n",
      "\n"
     ]
    },
    {
     "name": "stderr",
     "output_type": "stream",
     "text": [
      "Processed Story Blocks: 100%|██████████| 13/13 [00:00<00:00, 293.70it/s, # trackers=1]\n",
      "Processed Story Blocks: 100%|██████████| 13/13 [00:00<00:00, 179.71it/s, # trackers=11]\n",
      "Processed Story Blocks: 100%|██████████| 13/13 [00:00<00:00, 105.20it/s, # trackers=27]\n",
      "Processed Story Blocks: 100%|██████████| 13/13 [00:00<00:00, 99.81it/s, # trackers=23] \n",
      "Processed trackers: 100%|██████████| 12/12 [00:00<00:00, 61.21it/s, # actions=38]\n",
      "Processed actions: 38it [00:00, 305.93it/s, # examples=38]\n",
      "Processed trackers: 100%|██████████| 512/512 [00:16<00:00, 31.24it/s, # actions=426]\n"
     ]
    },
    {
     "name": "stdout",
     "output_type": "stream",
     "text": [
      "WARNING:tensorflow:From /Users/yurio/Kuliah/thesis_mania/prototyping_mania/rasa-1.6.0a1/rasa/core/policies/keras_policy.py:184: The name tf.set_random_seed is deprecated. Please use tf.compat.v1.set_random_seed instead.\n",
      "\n",
      "WARNING:tensorflow:From /usr/local/anaconda3/envs/rasa_16/lib/python3.6/site-packages/tensorflow_core/python/ops/resource_variable_ops.py:1630: calling BaseResourceVariable.__init__ (from tensorflow.python.ops.resource_variable_ops) with constraint is deprecated and will be removed in a future version.\n",
      "Instructions for updating:\n",
      "If using Keras pass *_constraint arguments to layers.\n",
      "WARNING:tensorflow:From /usr/local/anaconda3/envs/rasa_16/lib/python3.6/site-packages/tensorflow_core/python/keras/backend.py:3994: where (from tensorflow.python.ops.array_ops) is deprecated and will be removed in a future version.\n",
      "Instructions for updating:\n",
      "Use tf.where in 2.0, which has the same broadcast rule as np.where\n",
      "Model: \"sequential\"\n",
      "_________________________________________________________________\n",
      "Layer (type)                 Output Shape              Param #   \n",
      "=================================================================\n",
      "masking (Masking)            (None, 5, 38)             0         \n",
      "_________________________________________________________________\n",
      "lstm (LSTM)                  (None, 32)                9088      \n",
      "_________________________________________________________________\n",
      "dense (Dense)                (None, 19)                627       \n",
      "_________________________________________________________________\n",
      "activation (Activation)      (None, 19)                0         \n",
      "=================================================================\n",
      "Total params: 9,715\n",
      "Trainable params: 9,715\n",
      "Non-trainable params: 0\n",
      "_________________________________________________________________\n",
      "Train on 426 samples\n",
      "Epoch 1/100\n",
      "426/426 [==============================] - 2s 4ms/sample - loss: 2.8163 - acc: 0.3662\n",
      "Epoch 2/100\n",
      "426/426 [==============================] - 0s 317us/sample - loss: 2.5845 - acc: 0.4812\n",
      "Epoch 3/100\n",
      "426/426 [==============================] - 0s 338us/sample - loss: 2.2478 - acc: 0.4812\n",
      "Epoch 4/100\n",
      "426/426 [==============================] - 0s 348us/sample - loss: 2.0199 - acc: 0.4812\n",
      "Epoch 5/100\n",
      "426/426 [==============================] - 0s 331us/sample - loss: 1.9042 - acc: 0.4812\n",
      "Epoch 6/100\n",
      "426/426 [==============================] - 0s 344us/sample - loss: 1.8810 - acc: 0.4812\n",
      "Epoch 7/100\n",
      "426/426 [==============================] - 0s 351us/sample - loss: 1.8346 - acc: 0.4812\n",
      "Epoch 8/100\n",
      "426/426 [==============================] - 0s 329us/sample - loss: 1.8018 - acc: 0.4812\n",
      "Epoch 9/100\n",
      "426/426 [==============================] - 0s 358us/sample - loss: 1.7730 - acc: 0.4812\n",
      "Epoch 10/100\n",
      "426/426 [==============================] - 0s 321us/sample - loss: 1.7453 - acc: 0.4812\n",
      "Epoch 11/100\n",
      "426/426 [==============================] - 0s 352us/sample - loss: 1.7241 - acc: 0.4812\n",
      "Epoch 12/100\n",
      "426/426 [==============================] - 0s 334us/sample - loss: 1.6998 - acc: 0.4812\n",
      "Epoch 13/100\n",
      "426/426 [==============================] - 0s 251us/sample - loss: 1.6723 - acc: 0.4812\n",
      "Epoch 14/100\n",
      "426/426 [==============================] - 0s 235us/sample - loss: 1.6533 - acc: 0.4812\n",
      "Epoch 15/100\n",
      "426/426 [==============================] - 0s 232us/sample - loss: 1.6242 - acc: 0.4812\n",
      "Epoch 16/100\n",
      "426/426 [==============================] - 0s 234us/sample - loss: 1.5989 - acc: 0.4812\n",
      "Epoch 17/100\n",
      "426/426 [==============================] - 0s 245us/sample - loss: 1.5671 - acc: 0.4812\n",
      "Epoch 18/100\n",
      "426/426 [==============================] - 0s 238us/sample - loss: 1.5390 - acc: 0.4812\n",
      "Epoch 19/100\n",
      "426/426 [==============================] - 0s 229us/sample - loss: 1.5050 - acc: 0.4812\n",
      "Epoch 20/100\n",
      "426/426 [==============================] - 0s 234us/sample - loss: 1.4875 - acc: 0.4836\n",
      "Epoch 21/100\n",
      "426/426 [==============================] - 0s 233us/sample - loss: 1.4398 - acc: 0.4836\n",
      "Epoch 22/100\n",
      "426/426 [==============================] - 0s 231us/sample - loss: 1.3989 - acc: 0.4812\n",
      "Epoch 23/100\n",
      "426/426 [==============================] - 0s 235us/sample - loss: 1.3705 - acc: 0.4812\n",
      "Epoch 24/100\n",
      "426/426 [==============================] - 0s 250us/sample - loss: 1.3188 - acc: 0.4977\n",
      "Epoch 25/100\n",
      "426/426 [==============================] - 0s 228us/sample - loss: 1.2870 - acc: 0.5070\n",
      "Epoch 26/100\n",
      "426/426 [==============================] - 0s 226us/sample - loss: 1.2404 - acc: 0.5141\n",
      "Epoch 27/100\n",
      "426/426 [==============================] - 0s 242us/sample - loss: 1.2013 - acc: 0.5493\n",
      "Epoch 28/100\n",
      "426/426 [==============================] - 0s 240us/sample - loss: 1.1501 - acc: 0.5939\n",
      "Epoch 29/100\n",
      "426/426 [==============================] - 0s 240us/sample - loss: 1.1159 - acc: 0.6268\n",
      "Epoch 30/100\n",
      "426/426 [==============================] - 0s 254us/sample - loss: 1.0675 - acc: 0.6878\n",
      "Epoch 31/100\n",
      "426/426 [==============================] - 0s 242us/sample - loss: 1.0327 - acc: 0.7089\n",
      "Epoch 32/100\n",
      "426/426 [==============================] - 0s 223us/sample - loss: 0.9943 - acc: 0.7418\n",
      "Epoch 33/100\n",
      "426/426 [==============================] - 0s 258us/sample - loss: 0.9430 - acc: 0.7958\n",
      "Epoch 34/100\n",
      "426/426 [==============================] - 0s 297us/sample - loss: 0.9206 - acc: 0.8263\n",
      "Epoch 35/100\n",
      "426/426 [==============================] - 0s 270us/sample - loss: 0.8885 - acc: 0.8404\n",
      "Epoch 36/100\n",
      "426/426 [==============================] - 0s 255us/sample - loss: 0.8376 - acc: 0.8756\n",
      "Epoch 37/100\n",
      "426/426 [==============================] - 0s 243us/sample - loss: 0.8162 - acc: 0.8662\n",
      "Epoch 38/100\n",
      "426/426 [==============================] - 0s 296us/sample - loss: 0.7781 - acc: 0.8850\n",
      "Epoch 39/100\n",
      "426/426 [==============================] - 0s 257us/sample - loss: 0.7588 - acc: 0.8850\n",
      "Epoch 40/100\n",
      "426/426 [==============================] - 0s 229us/sample - loss: 0.7366 - acc: 0.8850\n",
      "Epoch 41/100\n",
      "426/426 [==============================] - 0s 239us/sample - loss: 0.6996 - acc: 0.8920\n",
      "Epoch 42/100\n",
      "426/426 [==============================] - 0s 255us/sample - loss: 0.6439 - acc: 0.9249\n",
      "Epoch 43/100\n",
      "426/426 [==============================] - 0s 239us/sample - loss: 0.6516 - acc: 0.9108\n",
      "Epoch 44/100\n",
      "426/426 [==============================] - 0s 270us/sample - loss: 0.6127 - acc: 0.9155\n",
      "Epoch 45/100\n",
      "426/426 [==============================] - 0s 270us/sample - loss: 0.5684 - acc: 0.9343\n",
      "Epoch 46/100\n",
      "426/426 [==============================] - 0s 287us/sample - loss: 0.5407 - acc: 0.9413\n",
      "Epoch 47/100\n",
      "426/426 [==============================] - 0s 311us/sample - loss: 0.5652 - acc: 0.9343\n",
      "Epoch 48/100\n",
      "426/426 [==============================] - 0s 291us/sample - loss: 0.5459 - acc: 0.9061\n",
      "Epoch 49/100\n",
      "426/426 [==============================] - 0s 239us/sample - loss: 0.4887 - acc: 0.9484\n",
      "Epoch 50/100\n",
      "426/426 [==============================] - 0s 239us/sample - loss: 0.4673 - acc: 0.9413\n",
      "Epoch 51/100\n",
      "426/426 [==============================] - 0s 248us/sample - loss: 0.4577 - acc: 0.9554\n",
      "Epoch 52/100\n",
      "426/426 [==============================] - 0s 266us/sample - loss: 0.4198 - acc: 0.9507\n",
      "Epoch 53/100\n",
      "426/426 [==============================] - 0s 256us/sample - loss: 0.4052 - acc: 0.9531\n",
      "Epoch 54/100\n",
      "426/426 [==============================] - 0s 249us/sample - loss: 0.4077 - acc: 0.9671\n",
      "Epoch 55/100\n",
      "426/426 [==============================] - 0s 243us/sample - loss: 0.3716 - acc: 0.9742\n",
      "Epoch 56/100\n",
      "426/426 [==============================] - 0s 254us/sample - loss: 0.3687 - acc: 0.9671\n",
      "Epoch 57/100\n",
      "426/426 [==============================] - 0s 253us/sample - loss: 0.3366 - acc: 0.9765\n",
      "Epoch 58/100\n",
      "426/426 [==============================] - 0s 256us/sample - loss: 0.3420 - acc: 0.9695\n",
      "Epoch 59/100\n",
      "426/426 [==============================] - 0s 276us/sample - loss: 0.3268 - acc: 0.9695\n",
      "Epoch 60/100\n",
      "426/426 [==============================] - 0s 301us/sample - loss: 0.3101 - acc: 0.9695\n",
      "Epoch 61/100\n",
      "426/426 [==============================] - 0s 309us/sample - loss: 0.2982 - acc: 0.9671\n",
      "Epoch 62/100\n",
      "426/426 [==============================] - 0s 319us/sample - loss: 0.2813 - acc: 0.9718\n",
      "Epoch 63/100\n",
      "426/426 [==============================] - 0s 295us/sample - loss: 0.2671 - acc: 0.9789\n",
      "Epoch 64/100\n"
     ]
    },
    {
     "name": "stdout",
     "output_type": "stream",
     "text": [
      "426/426 [==============================] - 0s 234us/sample - loss: 0.2412 - acc: 0.9789\n",
      "Epoch 65/100\n",
      "426/426 [==============================] - 0s 222us/sample - loss: 0.2470 - acc: 0.9812\n",
      "Epoch 66/100\n",
      "426/426 [==============================] - 0s 225us/sample - loss: 0.2550 - acc: 0.9812\n",
      "Epoch 67/100\n",
      "426/426 [==============================] - 0s 241us/sample - loss: 0.2294 - acc: 0.9812\n",
      "Epoch 68/100\n",
      "426/426 [==============================] - 0s 328us/sample - loss: 0.2253 - acc: 0.9765\n",
      "Epoch 69/100\n",
      "426/426 [==============================] - 0s 356us/sample - loss: 0.2325 - acc: 0.9836\n",
      "Epoch 70/100\n",
      "426/426 [==============================] - 0s 316us/sample - loss: 0.1939 - acc: 0.9742\n",
      "Epoch 71/100\n",
      "426/426 [==============================] - 0s 240us/sample - loss: 0.2083 - acc: 0.9859\n",
      "Epoch 72/100\n",
      "426/426 [==============================] - 0s 221us/sample - loss: 0.1981 - acc: 0.9812\n",
      "Epoch 73/100\n",
      "426/426 [==============================] - 0s 237us/sample - loss: 0.1972 - acc: 0.9812\n",
      "Epoch 74/100\n",
      "426/426 [==============================] - 0s 232us/sample - loss: 0.1814 - acc: 0.9859\n",
      "Epoch 75/100\n",
      "426/426 [==============================] - 0s 250us/sample - loss: 0.2064 - acc: 0.9812\n",
      "Epoch 76/100\n",
      "426/426 [==============================] - 0s 625us/sample - loss: 0.1739 - acc: 0.9859\n",
      "Epoch 77/100\n",
      "426/426 [==============================] - 0s 313us/sample - loss: 0.1601 - acc: 0.9930\n",
      "Epoch 78/100\n",
      "426/426 [==============================] - 0s 326us/sample - loss: 0.1715 - acc: 0.9859\n",
      "Epoch 79/100\n",
      "426/426 [==============================] - 0s 296us/sample - loss: 0.1352 - acc: 0.9906\n",
      "Epoch 80/100\n",
      "426/426 [==============================] - 0s 270us/sample - loss: 0.1349 - acc: 0.9953\n",
      "Epoch 81/100\n",
      "426/426 [==============================] - 0s 227us/sample - loss: 0.1553 - acc: 0.9789\n",
      "Epoch 82/100\n",
      "426/426 [==============================] - 0s 227us/sample - loss: 0.1343 - acc: 0.9859\n",
      "Epoch 83/100\n",
      "426/426 [==============================] - 0s 244us/sample - loss: 0.1404 - acc: 0.9930\n",
      "Epoch 84/100\n",
      "426/426 [==============================] - 0s 275us/sample - loss: 0.1185 - acc: 0.9859\n",
      "Epoch 85/100\n",
      "426/426 [==============================] - 0s 318us/sample - loss: 0.1241 - acc: 0.9906\n",
      "Epoch 86/100\n",
      "426/426 [==============================] - 0s 269us/sample - loss: 0.1208 - acc: 0.9883\n",
      "Epoch 87/100\n",
      "426/426 [==============================] - 0s 251us/sample - loss: 0.0948 - acc: 0.9930\n",
      "Epoch 88/100\n",
      "426/426 [==============================] - 0s 245us/sample - loss: 0.1146 - acc: 0.9859\n",
      "Epoch 89/100\n",
      "426/426 [==============================] - 0s 246us/sample - loss: 0.1185 - acc: 0.9883\n",
      "Epoch 90/100\n",
      "426/426 [==============================] - 0s 232us/sample - loss: 0.1289 - acc: 0.9836\n",
      "Epoch 91/100\n",
      "426/426 [==============================] - 0s 251us/sample - loss: 0.1084 - acc: 0.9953\n",
      "Epoch 92/100\n",
      "426/426 [==============================] - 0s 272us/sample - loss: 0.0906 - acc: 0.9977\n",
      "Epoch 93/100\n",
      "426/426 [==============================] - 0s 293us/sample - loss: 0.1054 - acc: 0.9906\n",
      "Epoch 94/100\n",
      "426/426 [==============================] - 0s 302us/sample - loss: 0.0918 - acc: 0.9953\n",
      "Epoch 95/100\n",
      "426/426 [==============================] - 0s 299us/sample - loss: 0.0969 - acc: 0.9836\n",
      "Epoch 96/100\n",
      "426/426 [==============================] - 0s 263us/sample - loss: 0.0821 - acc: 0.9953\n",
      "Epoch 97/100\n",
      "426/426 [==============================] - 0s 223us/sample - loss: 0.0837 - acc: 0.9906\n",
      "Epoch 98/100\n",
      "426/426 [==============================] - 0s 228us/sample - loss: 0.0740 - acc: 0.9953\n",
      "Epoch 99/100\n",
      "426/426 [==============================] - 0s 252us/sample - loss: 0.0705 - acc: 0.9930\n",
      "Epoch 100/100\n",
      "426/426 [==============================] - 0s 290us/sample - loss: 0.0743 - acc: 0.9930\n",
      "\u001b[94mCore model training completed.\u001b[0m\n",
      "\u001b[94mTraining NLU model...\u001b[0m\n",
      "WARNING:tensorflow:From /Users/yurio/Kuliah/thesis_mania/prototyping_mania/rasa-1.6.0a1/rasa/nlu/classifiers/embedding_intent_classifier.py:545: The name tf.placeholder is deprecated. Please use tf.compat.v1.placeholder instead.\n",
      "\n",
      "WARNING:tensorflow:From /Users/yurio/Kuliah/thesis_mania/prototyping_mania/rasa-1.6.0a1/rasa/utils/train_utils.py:257: The name tf.data.Iterator is deprecated. Please use tf.compat.v1.data.Iterator instead.\n",
      "\n",
      "WARNING:tensorflow:From /Users/yurio/Kuliah/thesis_mania/prototyping_mania/rasa-1.6.0a1/rasa/utils/train_utils.py:258: DatasetV1.output_types (from tensorflow.python.data.ops.dataset_ops) is deprecated and will be removed in a future version.\n",
      "Instructions for updating:\n",
      "Use `tf.compat.v1.data.get_output_types(dataset)`.\n",
      "WARNING:tensorflow:From /Users/yurio/Kuliah/thesis_mania/prototyping_mania/rasa-1.6.0a1/rasa/utils/train_utils.py:259: DatasetV1.output_shapes (from tensorflow.python.data.ops.dataset_ops) is deprecated and will be removed in a future version.\n",
      "Instructions for updating:\n",
      "Use `tf.compat.v1.data.get_output_shapes(dataset)`.\n",
      "WARNING:tensorflow:From /Users/yurio/Kuliah/thesis_mania/prototyping_mania/rasa-1.6.0a1/rasa/utils/train_utils.py:260: DatasetV1.output_classes (from tensorflow.python.data.ops.dataset_ops) is deprecated and will be removed in a future version.\n",
      "Instructions for updating:\n",
      "Use `tf.compat.v1.data.get_output_classes(dataset)`.\n",
      "WARNING:tensorflow:From /usr/local/anaconda3/envs/rasa_16/lib/python3.6/site-packages/tensorflow_core/python/data/ops/iterator_ops.py:347: Iterator.output_types (from tensorflow.python.data.ops.iterator_ops) is deprecated and will be removed in a future version.\n",
      "Instructions for updating:\n",
      "Use `tf.compat.v1.data.get_output_types(iterator)`.\n",
      "WARNING:tensorflow:From /usr/local/anaconda3/envs/rasa_16/lib/python3.6/site-packages/tensorflow_core/python/data/ops/iterator_ops.py:348: Iterator.output_shapes (from tensorflow.python.data.ops.iterator_ops) is deprecated and will be removed in a future version.\n",
      "Instructions for updating:\n",
      "Use `tf.compat.v1.data.get_output_shapes(iterator)`.\n",
      "WARNING:tensorflow:From /usr/local/anaconda3/envs/rasa_16/lib/python3.6/site-packages/tensorflow_core/python/data/ops/iterator_ops.py:350: Iterator.output_classes (from tensorflow.python.data.ops.iterator_ops) is deprecated and will be removed in a future version.\n",
      "Instructions for updating:\n",
      "Use `tf.compat.v1.data.get_output_classes(iterator)`.\n",
      "WARNING:tensorflow:From /Users/yurio/Kuliah/thesis_mania/prototyping_mania/rasa-1.6.0a1/rasa/nlu/classifiers/embedding_intent_classifier.py:555: The name tf.placeholder_with_default is deprecated. Please use tf.compat.v1.placeholder_with_default instead.\n",
      "\n",
      "WARNING:tensorflow:From /Users/yurio/Kuliah/thesis_mania/prototyping_mania/rasa-1.6.0a1/rasa/utils/train_utils.py:300: The name tf.AUTO_REUSE is deprecated. Please use tf.compat.v1.AUTO_REUSE instead.\n",
      "\n",
      "WARNING:tensorflow:From /Users/yurio/Kuliah/thesis_mania/prototyping_mania/rasa-1.6.0a1/rasa/utils/train_utils.py:300: dense (from tensorflow.python.layers.core) is deprecated and will be removed in a future version.\n",
      "Instructions for updating:\n",
      "Use keras.layers.Dense instead.\n",
      "WARNING:tensorflow:From /usr/local/anaconda3/envs/rasa_16/lib/python3.6/site-packages/tensorflow_core/python/layers/core.py:187: Layer.apply (from tensorflow.python.keras.engine.base_layer) is deprecated and will be removed in a future version.\n",
      "Instructions for updating:\n",
      "Please use `layer.__call__` method instead.\n",
      "WARNING:tensorflow:From /Users/yurio/Kuliah/thesis_mania/prototyping_mania/rasa-1.6.0a1/rasa/utils/train_utils.py:302: dropout (from tensorflow.python.layers.core) is deprecated and will be removed in a future version.\n",
      "Instructions for updating:\n",
      "Use keras.layers.dropout instead.\n",
      "WARNING:tensorflow:From /usr/local/anaconda3/envs/rasa_16/lib/python3.6/site-packages/tensorflow_core/python/util/dispatch.py:180: batch_gather (from tensorflow.python.ops.array_ops) is deprecated and will be removed after 2017-10-25.\n",
      "Instructions for updating:\n",
      "`tf.batch_gather` is deprecated, please use `tf.gather` with `batch_dims=-1` instead.\n",
      "WARNING:tensorflow:From /Users/yurio/Kuliah/thesis_mania/prototyping_mania/rasa-1.6.0a1/rasa/utils/train_utils.py:680: The name tf.losses.softmax_cross_entropy is deprecated. Please use tf.compat.v1.losses.softmax_cross_entropy instead.\n",
      "\n",
      "WARNING:tensorflow:From /Users/yurio/Kuliah/thesis_mania/prototyping_mania/rasa-1.6.0a1/rasa/utils/train_utils.py:682: The name tf.losses.get_regularization_loss is deprecated. Please use tf.compat.v1.losses.get_regularization_loss instead.\n",
      "\n"
     ]
    },
    {
     "name": "stdout",
     "output_type": "stream",
     "text": [
      "WARNING:tensorflow:From /Users/yurio/Kuliah/thesis_mania/prototyping_mania/rasa-1.6.0a1/rasa/nlu/classifiers/embedding_intent_classifier.py:563: The name tf.Session is deprecated. Please use tf.compat.v1.Session instead.\n",
      "\n",
      "WARNING:tensorflow:From /Users/yurio/Kuliah/thesis_mania/prototyping_mania/rasa-1.6.0a1/rasa/utils/train_utils.py:866: The name tf.global_variables_initializer is deprecated. Please use tf.compat.v1.global_variables_initializer instead.\n",
      "\n"
     ]
    },
    {
     "name": "stderr",
     "output_type": "stream",
     "text": [
      "Epochs: 100%|██████████| 300/300 [00:10<00:00, 30.03it/s, loss=1.194, acc=0.994]\n"
     ]
    },
    {
     "name": "stdout",
     "output_type": "stream",
     "text": [
      "WARNING:tensorflow:From /Users/yurio/Kuliah/thesis_mania/prototyping_mania/rasa-1.6.0a1/rasa/nlu/classifiers/embedding_intent_classifier.py:676: The name tf.train.Saver is deprecated. Please use tf.compat.v1.train.Saver instead.\n",
      "\n",
      "\u001b[94mNLU model training completed.\u001b[0m\n",
      "\u001b[92mYour Rasa model is trained and saved at '/Users/yurio/Kuliah/thesis_mania/prototyping_mania/chatbot-uii-2/models/20200915-184137.tar.gz'.\u001b[0m\n",
      "models/20200915-184137.tar.gz\n"
     ]
    }
   ],
   "source": [
    "import rasa\n",
    "\n",
    "model_path = rasa.train(domain, config, [training_files], output)\n",
    "print(model_path)"
   ]
  },
  {
   "cell_type": "code",
   "execution_count": 8,
   "metadata": {},
   "outputs": [
    {
     "name": "stdout",
     "output_type": "stream",
     "text": [
      "INFO:tensorflow:Restoring parameters from /var/folders/xs/53700wnx24zft75cdj7cw3wh0000gn/T/tmp99kmuq2g/nlu/component_6_EmbeddingIntentClassifier.ckpt\n",
      "WARNING:tensorflow:From /Users/yurio/Kuliah/thesis_mania/prototyping_mania/rasa-1.6.0a1/rasa/utils/train_utils.py:961: The name tf.get_collection is deprecated. Please use tf.compat.v1.get_collection instead.\n",
      "\n",
      "WARNING:tensorflow:From /usr/local/anaconda3/envs/rasa_16/lib/python3.6/site-packages/tensorflow_core/python/ops/init_ops.py:97: calling GlorotUniform.__init__ (from tensorflow.python.ops.init_ops) with dtype is deprecated and will be removed in a future version.\n",
      "Instructions for updating:\n",
      "Call initializer instance with the dtype argument instead of passing it to the constructor\n",
      "WARNING:tensorflow:From /usr/local/anaconda3/envs/rasa_16/lib/python3.6/site-packages/tensorflow_core/python/ops/init_ops.py:97: calling Orthogonal.__init__ (from tensorflow.python.ops.init_ops) with dtype is deprecated and will be removed in a future version.\n",
      "Instructions for updating:\n",
      "Call initializer instance with the dtype argument instead of passing it to the constructor\n",
      "WARNING:tensorflow:From /usr/local/anaconda3/envs/rasa_16/lib/python3.6/site-packages/tensorflow_core/python/ops/init_ops.py:97: calling Zeros.__init__ (from tensorflow.python.ops.init_ops) with dtype is deprecated and will be removed in a future version.\n",
      "Instructions for updating:\n",
      "Call initializer instance with the dtype argument instead of passing it to the constructor\n",
      "Your bot is ready to talk! Type your messages here or send '/stop'.\n",
      "assalamu alaikum\n",
      "\u001b[92mwalaikum salam saya chatbot uii, ada yang bisa saya bantu\u001b[0m\n",
      "minta daftar nilai\n",
      "\u001b[92mwalaikum salam saya chatbot uii, ada yang bisa saya bantu\u001b[0m\n",
      "minta jadwal\n",
      "\u001b[92muntuk konsentrasi atau prodi apa ?\u001b[0m\n",
      "ds\n",
      "\\stop\n",
      "/stop\n"
     ]
    }
   ],
   "source": [
    "from rasa.jupyter import chat\n",
    "chat(model_path)"
   ]
  },
  {
   "cell_type": "code",
   "execution_count": 9,
   "metadata": {},
   "outputs": [
    {
     "name": "stdout",
     "output_type": "stream",
     "text": [
      "/var/folders/xs/53700wnx24zft75cdj7cw3wh0000gn/T/tmpu66kjchr /var/folders/xs/53700wnx24zft75cdj7cw3wh0000gn/T/tmpclbqlk2h\n"
     ]
    }
   ],
   "source": [
    "import rasa.data as data\n",
    "stories_directory, nlu_data_directory = data.get_core_nlu_directories(training_files)\n",
    "print(stories_directory, nlu_data_directory)"
   ]
  },
  {
   "cell_type": "code",
   "execution_count": 10,
   "metadata": {},
   "outputs": [
    {
     "data": {
      "text/plain": [
       "'models/20200915-184137.tar.gz'"
      ]
     },
     "execution_count": 10,
     "metadata": {},
     "output_type": "execute_result"
    }
   ],
   "source": [
    "model_path"
   ]
  },
  {
   "cell_type": "code",
   "execution_count": 11,
   "metadata": {},
   "outputs": [
    {
     "data": {
      "text/plain": [
       "'/var/folders/xs/53700wnx24zft75cdj7cw3wh0000gn/T/tmpu66kjchr'"
      ]
     },
     "execution_count": 11,
     "metadata": {},
     "output_type": "execute_result"
    }
   ],
   "source": [
    "stories_directory"
   ]
  },
  {
   "cell_type": "code",
   "execution_count": 12,
   "metadata": {},
   "outputs": [
    {
     "data": {
      "text/plain": [
       "'/var/folders/xs/53700wnx24zft75cdj7cw3wh0000gn/T/tmpclbqlk2h'"
      ]
     },
     "execution_count": 12,
     "metadata": {},
     "output_type": "execute_result"
    }
   ],
   "source": [
    "nlu_data_directory"
   ]
  },
  {
   "cell_type": "code",
   "execution_count": 13,
   "metadata": {},
   "outputs": [],
   "source": [
    "??rasa.test"
   ]
  },
  {
   "cell_type": "code",
   "execution_count": 14,
   "metadata": {},
   "outputs": [
    {
     "name": "stderr",
     "output_type": "stream",
     "text": [
      "Processed Story Blocks: 100%|██████████| 13/13 [00:00<00:00, 307.49it/s, # trackers=1]\n",
      "100%|██████████| 12/12 [00:00<00:00, 29.27it/s]\n"
     ]
    },
    {
     "name": "stdout",
     "output_type": "stream",
     "text": [
      "INFO:tensorflow:Restoring parameters from /var/folders/xs/53700wnx24zft75cdj7cw3wh0000gn/T/tmpdmr6wtic/nlu/component_6_EmbeddingIntentClassifier.ckpt\n"
     ]
    },
    {
     "name": "stderr",
     "output_type": "stream",
     "text": [
      "100%|██████████| 165/165 [00:00<00:00, 561.05it/s]\n"
     ]
    },
    {
     "name": "stdout",
     "output_type": "stream",
     "text": [
      "Done testing.\n"
     ]
    },
    {
     "data": {
      "image/png": "[encoded data removed]",
      "text/plain": [
       "<Figure size 1440x1440 with 2 Axes>"
      ]
     },
     "metadata": {
      "needs_background": "light"
     },
     "output_type": "display_data"
    }
   ],
   "source": [
    "rasa.test(model_path, stories_directory, nlu_data_directory)\n",
    "print(\"Done testing.\")"
   ]
  },
  {
   "cell_type": "code",
   "execution_count": 15,
   "metadata": {},
   "outputs": [
    {
     "name": "stdout",
     "output_type": "stream",
     "text": [
      "CRFEntityExtractor_report.json intent_report.json\r\n",
      "failed_stories.md              story_confmat.pdf\r\n"
     ]
    }
   ],
   "source": [
    "!ls results/"
   ]
  },
  {
   "cell_type": "code",
   "execution_count": 18,
   "metadata": {},
   "outputs": [],
   "source": [
    "import pandas as pd\n",
    "import json"
   ]
  },
  {
   "cell_type": "code",
   "execution_count": 19,
   "metadata": {},
   "outputs": [],
   "source": [
    "with open('results/CRFEntityExtractor_report.json', 'r') as json_file:\n",
    "    tes = json.load(json_file)"
   ]
  },
  {
   "cell_type": "code",
   "execution_count": 42,
   "metadata": {},
   "outputs": [],
   "source": [
    "df_tes_entity = pd.DataFrame(tes)"
   ]
  },
  {
   "cell_type": "code",
   "execution_count": 44,
   "metadata": {},
   "outputs": [],
   "source": [
    "df_tes_entity.to_csv('results/entity_nlu_report.csv')"
   ]
  },
  {
   "cell_type": "code",
   "execution_count": 20,
   "metadata": {},
   "outputs": [],
   "source": [
    "with open('results/intent_report.json', 'r') as json_file:\n",
    "    tes_nlu = json.load(json_file)"
   ]
  },
  {
   "cell_type": "code",
   "execution_count": 40,
   "metadata": {},
   "outputs": [],
   "source": [
    "df_tes_nlu = pd.DataFrame(tes_nlu)"
   ]
  },
  {
   "cell_type": "code",
   "execution_count": 45,
   "metadata": {},
   "outputs": [],
   "source": [
    "df_tes_nlu.to_csv('results/intent_nlu_report.csv')"
   ]
  },
  {
   "cell_type": "code",
   "execution_count": 25,
   "metadata": {},
   "outputs": [],
   "source": [
    "data = load_data('./data/nlu.md')"
   ]
  },
  {
   "cell_type": "code",
   "execution_count": 26,
   "metadata": {},
   "outputs": [],
   "source": [
    "with open('data/nlu.json', 'w') as json_file:\n",
    "    json.dump(data.as_json(), json_file)"
   ]
  },
  {
   "cell_type": "code",
   "execution_count": 27,
   "metadata": {},
   "outputs": [],
   "source": [
    "with open('data/nlu.json', 'r') as json_file:\n",
    "    data_nlu = json.load(json_file)"
   ]
  },
  {
   "cell_type": "code",
   "execution_count": 28,
   "metadata": {},
   "outputs": [],
   "source": [
    "data_nlu_js = json.loads(data_nlu)"
   ]
  },
  {
   "cell_type": "code",
   "execution_count": 29,
   "metadata": {},
   "outputs": [],
   "source": [
    "df_data = pd.DataFrame(data_nlu_js['rasa_nlu_data']['common_examples'])"
   ]
  },
  {
   "cell_type": "code",
   "execution_count": 30,
   "metadata": {},
   "outputs": [
    {
     "data": {
      "text/html": [
       "<div>\n",
       "<style scoped>\n",
       "    .dataframe tbody tr th:only-of-type {\n",
       "        vertical-align: middle;\n",
       "    }\n",
       "\n",
       "    .dataframe tbody tr th {\n",
       "        vertical-align: top;\n",
       "    }\n",
       "\n",
       "    .dataframe thead th {\n",
       "        text-align: right;\n",
       "    }\n",
       "</style>\n",
       "<table border=\"1\" class=\"dataframe\">\n",
       "  <thead>\n",
       "    <tr style=\"text-align: right;\">\n",
       "      <th></th>\n",
       "      <th>intent</th>\n",
       "      <th>text</th>\n",
       "      <th>entities</th>\n",
       "    </tr>\n",
       "  </thead>\n",
       "  <tbody>\n",
       "    <tr>\n",
       "      <th>0</th>\n",
       "      <td>intent_menyapa</td>\n",
       "      <td>assalamu alaikum</td>\n",
       "      <td>NaN</td>\n",
       "    </tr>\n",
       "    <tr>\n",
       "      <th>1</th>\n",
       "      <td>intent_menyapa</td>\n",
       "      <td>hey</td>\n",
       "      <td>NaN</td>\n",
       "    </tr>\n",
       "    <tr>\n",
       "      <th>2</th>\n",
       "      <td>intent_menyapa</td>\n",
       "      <td>Hai</td>\n",
       "      <td>NaN</td>\n",
       "    </tr>\n",
       "    <tr>\n",
       "      <th>3</th>\n",
       "      <td>intent_menyapa</td>\n",
       "      <td>Hallo</td>\n",
       "      <td>NaN</td>\n",
       "    </tr>\n",
       "    <tr>\n",
       "      <th>4</th>\n",
       "      <td>intent_menyapa</td>\n",
       "      <td>hai</td>\n",
       "      <td>NaN</td>\n",
       "    </tr>\n",
       "  </tbody>\n",
       "</table>\n",
       "</div>"
      ],
      "text/plain": [
       "           intent              text entities\n",
       "0  intent_menyapa  assalamu alaikum      NaN\n",
       "1  intent_menyapa               hey      NaN\n",
       "2  intent_menyapa               Hai      NaN\n",
       "3  intent_menyapa             Hallo      NaN\n",
       "4  intent_menyapa               hai      NaN"
      ]
     },
     "execution_count": 30,
     "metadata": {},
     "output_type": "execute_result"
    }
   ],
   "source": [
    "df_data.head()"
   ]
  },
  {
   "cell_type": "code",
   "execution_count": 33,
   "metadata": {},
   "outputs": [
    {
     "data": {
      "text/plain": [
       "array(['intent_minta_daftar_nilai', 'intent_minta_jadwal',\n",
       "       'intent_prediksi_cuaca', 'intent_jadwal_sholat'], dtype=object)"
      ]
     },
     "execution_count": 33,
     "metadata": {},
     "output_type": "execute_result"
    }
   ],
   "source": [
    "df_data[df_data.entities.notnull()]['intent'].unique()"
   ]
  },
  {
   "cell_type": "code",
   "execution_count": 34,
   "metadata": {},
   "outputs": [
    {
     "data": {
      "text/html": [
       "<div>\n",
       "<style scoped>\n",
       "    .dataframe tbody tr th:only-of-type {\n",
       "        vertical-align: middle;\n",
       "    }\n",
       "\n",
       "    .dataframe tbody tr th {\n",
       "        vertical-align: top;\n",
       "    }\n",
       "\n",
       "    .dataframe thead th {\n",
       "        text-align: right;\n",
       "    }\n",
       "</style>\n",
       "<table border=\"1\" class=\"dataframe\">\n",
       "  <thead>\n",
       "    <tr style=\"text-align: right;\">\n",
       "      <th></th>\n",
       "      <th>intent</th>\n",
       "      <th>text</th>\n",
       "      <th>entities</th>\n",
       "    </tr>\n",
       "  </thead>\n",
       "  <tbody>\n",
       "    <tr>\n",
       "      <th>29</th>\n",
       "      <td>intent_minta_jadwal</td>\n",
       "      <td>Minta jadwal untuk Data Science</td>\n",
       "      <td>[{'start': 19, 'end': 31, 'value': 'Data Scien...</td>\n",
       "    </tr>\n",
       "    <tr>\n",
       "      <th>30</th>\n",
       "      <td>intent_minta_jadwal</td>\n",
       "      <td>Tolong jadwalnya untuk Data Science</td>\n",
       "      <td>[{'start': 23, 'end': 35, 'value': 'Data Scien...</td>\n",
       "    </tr>\n",
       "    <tr>\n",
       "      <th>31</th>\n",
       "      <td>intent_minta_jadwal</td>\n",
       "      <td>Jadwal Data Science</td>\n",
       "      <td>[{'start': 7, 'end': 19, 'value': 'Data Scienc...</td>\n",
       "    </tr>\n",
       "    <tr>\n",
       "      <th>32</th>\n",
       "      <td>intent_minta_jadwal</td>\n",
       "      <td>Minta jadwal dong untuk Data Science</td>\n",
       "      <td>[{'start': 24, 'end': 36, 'value': 'Data Scien...</td>\n",
       "    </tr>\n",
       "    <tr>\n",
       "      <th>33</th>\n",
       "      <td>intent_minta_jadwal</td>\n",
       "      <td>Data Science</td>\n",
       "      <td>[{'start': 0, 'end': 12, 'value': 'Data Scienc...</td>\n",
       "    </tr>\n",
       "    <tr>\n",
       "      <th>...</th>\n",
       "      <td>...</td>\n",
       "      <td>...</td>\n",
       "      <td>...</td>\n",
       "    </tr>\n",
       "    <tr>\n",
       "      <th>124</th>\n",
       "      <td>intent_minta_jadwal</td>\n",
       "      <td>Minta jadwal untuk sie</td>\n",
       "      <td>[{'start': 19, 'end': 22, 'value': 'sie', 'ent...</td>\n",
       "    </tr>\n",
       "    <tr>\n",
       "      <th>125</th>\n",
       "      <td>intent_minta_jadwal</td>\n",
       "      <td>Tolong jadwalnya untuk sie</td>\n",
       "      <td>[{'start': 23, 'end': 26, 'value': 'sie', 'ent...</td>\n",
       "    </tr>\n",
       "    <tr>\n",
       "      <th>126</th>\n",
       "      <td>intent_minta_jadwal</td>\n",
       "      <td>Jadwal sie</td>\n",
       "      <td>[{'start': 7, 'end': 10, 'value': 'sie', 'enti...</td>\n",
       "    </tr>\n",
       "    <tr>\n",
       "      <th>127</th>\n",
       "      <td>intent_minta_jadwal</td>\n",
       "      <td>Minta jadwal dong untuk sie</td>\n",
       "      <td>[{'start': 24, 'end': 27, 'value': 'sie', 'ent...</td>\n",
       "    </tr>\n",
       "    <tr>\n",
       "      <th>128</th>\n",
       "      <td>intent_minta_jadwal</td>\n",
       "      <td>sie</td>\n",
       "      <td>[{'start': 0, 'end': 3, 'value': 'sie', 'entit...</td>\n",
       "    </tr>\n",
       "  </tbody>\n",
       "</table>\n",
       "<p>100 rows × 3 columns</p>\n",
       "</div>"
      ],
      "text/plain": [
       "                  intent                                  text  \\\n",
       "29   intent_minta_jadwal       Minta jadwal untuk Data Science   \n",
       "30   intent_minta_jadwal   Tolong jadwalnya untuk Data Science   \n",
       "31   intent_minta_jadwal                   Jadwal Data Science   \n",
       "32   intent_minta_jadwal  Minta jadwal dong untuk Data Science   \n",
       "33   intent_minta_jadwal                          Data Science   \n",
       "..                   ...                                   ...   \n",
       "124  intent_minta_jadwal                Minta jadwal untuk sie   \n",
       "125  intent_minta_jadwal            Tolong jadwalnya untuk sie   \n",
       "126  intent_minta_jadwal                            Jadwal sie   \n",
       "127  intent_minta_jadwal           Minta jadwal dong untuk sie   \n",
       "128  intent_minta_jadwal                                   sie   \n",
       "\n",
       "                                              entities  \n",
       "29   [{'start': 19, 'end': 31, 'value': 'Data Scien...  \n",
       "30   [{'start': 23, 'end': 35, 'value': 'Data Scien...  \n",
       "31   [{'start': 7, 'end': 19, 'value': 'Data Scienc...  \n",
       "32   [{'start': 24, 'end': 36, 'value': 'Data Scien...  \n",
       "33   [{'start': 0, 'end': 12, 'value': 'Data Scienc...  \n",
       "..                                                 ...  \n",
       "124  [{'start': 19, 'end': 22, 'value': 'sie', 'ent...  \n",
       "125  [{'start': 23, 'end': 26, 'value': 'sie', 'ent...  \n",
       "126  [{'start': 7, 'end': 10, 'value': 'sie', 'enti...  \n",
       "127  [{'start': 24, 'end': 27, 'value': 'sie', 'ent...  \n",
       "128  [{'start': 0, 'end': 3, 'value': 'sie', 'entit...  \n",
       "\n",
       "[100 rows x 3 columns]"
      ]
     },
     "execution_count": 34,
     "metadata": {},
     "output_type": "execute_result"
    }
   ],
   "source": [
    "df_data.loc[df_data['intent'] == 'intent_minta_jadwal']"
   ]
  },
  {
   "cell_type": "code",
   "execution_count": 35,
   "metadata": {},
   "outputs": [
    {
     "data": {
      "text/html": [
       "<div>\n",
       "<style scoped>\n",
       "    .dataframe tbody tr th:only-of-type {\n",
       "        vertical-align: middle;\n",
       "    }\n",
       "\n",
       "    .dataframe tbody tr th {\n",
       "        vertical-align: top;\n",
       "    }\n",
       "\n",
       "    .dataframe thead th {\n",
       "        text-align: right;\n",
       "    }\n",
       "</style>\n",
       "<table border=\"1\" class=\"dataframe\">\n",
       "  <thead>\n",
       "    <tr style=\"text-align: right;\">\n",
       "      <th></th>\n",
       "      <th>intent</th>\n",
       "      <th>text</th>\n",
       "      <th>entities</th>\n",
       "    </tr>\n",
       "  </thead>\n",
       "  <tbody>\n",
       "    <tr>\n",
       "      <th>15</th>\n",
       "      <td>intent_minta_jadwal_saja</td>\n",
       "      <td>minta jadwal dongs</td>\n",
       "      <td>NaN</td>\n",
       "    </tr>\n",
       "    <tr>\n",
       "      <th>16</th>\n",
       "      <td>intent_minta_jadwal_saja</td>\n",
       "      <td>jadwal</td>\n",
       "      <td>NaN</td>\n",
       "    </tr>\n",
       "    <tr>\n",
       "      <th>17</th>\n",
       "      <td>intent_minta_jadwal_saja</td>\n",
       "      <td>minta jadwalnya</td>\n",
       "      <td>NaN</td>\n",
       "    </tr>\n",
       "    <tr>\n",
       "      <th>18</th>\n",
       "      <td>intent_minta_jadwal_saja</td>\n",
       "      <td>mas jadwal</td>\n",
       "      <td>NaN</td>\n",
       "    </tr>\n",
       "  </tbody>\n",
       "</table>\n",
       "</div>"
      ],
      "text/plain": [
       "                      intent                text entities\n",
       "15  intent_minta_jadwal_saja  minta jadwal dongs      NaN\n",
       "16  intent_minta_jadwal_saja              jadwal      NaN\n",
       "17  intent_minta_jadwal_saja     minta jadwalnya      NaN\n",
       "18  intent_minta_jadwal_saja          mas jadwal      NaN"
      ]
     },
     "execution_count": 35,
     "metadata": {},
     "output_type": "execute_result"
    }
   ],
   "source": [
    "df_data.loc[df_data['intent'] == 'intent_minta_jadwal_saja']"
   ]
  },
  {
   "cell_type": "code",
   "execution_count": 36,
   "metadata": {},
   "outputs": [
    {
     "data": {
      "text/plain": [
       "array(['intent_menyapa', 'intent_salam', 'intent_berpisah',\n",
       "       'terima_kasih', 'intent_minta_jadwal_saja',\n",
       "       'intent_minta_daftar_nilai', 'intent_minta_jadwal',\n",
       "       'intent_prediksi_cuaca', 'intent_jadwal_sholat', 'intent_setuju',\n",
       "       'intent_menolak', 'mood_baik', 'mood_tidak_senang',\n",
       "       'menantang_bot'], dtype=object)"
      ]
     },
     "execution_count": 36,
     "metadata": {},
     "output_type": "execute_result"
    }
   ],
   "source": [
    "df_data['intent'].unique()"
   ]
  },
  {
   "cell_type": "code",
   "execution_count": 46,
   "metadata": {},
   "outputs": [
    {
     "data": {
      "text/plain": [
       "14"
      ]
     },
     "execution_count": 46,
     "metadata": {},
     "output_type": "execute_result"
    }
   ],
   "source": [
    "len(df_data['intent'].unique())"
   ]
  },
  {
   "cell_type": "code",
   "execution_count": 37,
   "metadata": {},
   "outputs": [
    {
     "data": {
      "text/plain": [
       "float"
      ]
     },
     "execution_count": 37,
     "metadata": {},
     "output_type": "execute_result"
    }
   ],
   "source": [
    "type(df_data['entities'][0])"
   ]
  },
  {
   "cell_type": "code",
   "execution_count": null,
   "metadata": {},
   "outputs": [],
   "source": []
  }
 ],
 "metadata": {
  "kernelspec": {
   "display_name": "Python [conda env:rasa_16] *",
   "language": "python",
   "name": "conda-env-rasa_16-py"
  },
  "language_info": {
   "codemirror_mode": {
    "name": "ipython",
    "version": 3
   },
   "file_extension": ".py",
   "mimetype": "text/x-python",
   "name": "python",
   "nbconvert_exporter": "python",
   "pygments_lexer": "ipython3",
   "version": "3.6.10"
  }
 },
 "nbformat": 4,
 "nbformat_minor": 4
}
